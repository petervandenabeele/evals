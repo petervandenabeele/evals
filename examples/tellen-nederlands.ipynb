{
 "cells": [
  {
   "cell_type": "markdown",
   "metadata": {},
   "source": [
    "## Tellen Nederlands\n",
    "\n",
    "This notebook shows how to:\n",
    "- Build and run an eval\n",
    "- Load the results and into a Pandas Dataframe\n",
    "\n",
    "We use the `evals.elsuite.basic.match:Match` Eval class here to check whether new completions match the correct answer. Under the hood, it will generate a completion with the choice of model for each prompt, check if the completion matches the true answer, then logs a result."
   ]
  },
  {
   "cell_type": "code",
   "execution_count": null,
   "metadata": {},
   "outputs": [],
   "source": [
    "%pip install -e ../"
   ]
  },
  {
   "cell_type": "code",
   "execution_count": 1,
   "metadata": {},
   "outputs": [],
   "source": [
    "from matplotlib import pyplot as plt\n",
    "%matplotlib inline\n",
    "import pandas as pd\n",
    "import os\n",
    "\n",
    "# Assuming this notebook is in examples/\n",
    "registry_pth = os.path.join(os.getcwd(), \"../evals/registry\")"
   ]
  },
  {
   "cell_type": "code",
   "execution_count": 2,
   "metadata": {},
   "outputs": [
    {
     "data": {
      "text/plain": [
       "'/Users/peter_v/data/ai/git/evals/examples/../evals/registry'"
      ]
     },
     "execution_count": 2,
     "metadata": {},
     "output_type": "execute_result"
    }
   ],
   "source": [
    "registry_pth"
   ]
  },
  {
   "cell_type": "code",
   "execution_count": 51,
   "metadata": {},
   "outputs": [
    {
     "name": "stdout",
     "output_type": "stream",
     "text": [
      "[2023-03-15 23:41:36,289] [registry.py:145] Loading registry from /Users/peter_v/data/ai/git/evals/evals/registry/evals\n",
      "[2023-03-15 23:41:36,323] [registry.py:145] Loading registry from /Users/peter_v/.evals/evals\n",
      "[2023-03-15 23:41:37,083] [oaieval.py:178] \u001b[1;35mRun started: 230315224137Q7DKEE6A\u001b[0m\n",
      "[2023-03-15 23:41:37,085] [data.py:78] Fetching tellen_nederlands/samples.jsonl\n",
      "[2023-03-15 23:41:37,086] [eval.py:30] Evaluating 10 samples\n",
      "[2023-03-15 23:41:37,099] [eval.py:136] Running in threaded mode with 10 threads!\n",
      "100%|███████████████████████████████████████████| 10/10 [00:01<00:00,  5.79it/s]\n",
      "[2023-03-15 23:41:38,858] [record.py:320] Final report: {'accuracy': 0.9}. Logged to /tmp/evallogs/230315224137Q7DKEE6A_gpt-3.5-turbo_tellen-nederlands.jsonl\n",
      "[2023-03-15 23:41:38,858] [oaieval.py:209] Final report:\n",
      "[2023-03-15 23:41:38,858] [oaieval.py:211] accuracy: 0.9\n",
      "[2023-03-15 23:41:38,861] [record.py:309] Logged 30 rows of events to /tmp/evallogs/230315224137Q7DKEE6A_gpt-3.5-turbo_tellen-nederlands.jsonl: insert_time=2.611ms\n"
     ]
    }
   ],
   "source": [
    "# generate a JSONL which will record samples and logs and store it in /tmp/evallogs\n",
    "!export OPENAI_API_KEY=... && oaieval gpt-3.5-turbo tellen-nederlands"
   ]
  },
  {
   "cell_type": "code",
   "execution_count": 53,
   "metadata": {},
   "outputs": [
    {
     "data": {
      "text/plain": [
       "<Axes: title={'center': 'Correctness of generated answers'}, xlabel='Correctness', ylabel='Count'>"
      ]
     },
     "execution_count": 53,
     "metadata": {},
     "output_type": "execute_result"
    },
    {
     "data": {
      "image/png": "[encoded data removed]",
      "text/plain": [
       "<Figure size 640x480 with 1 Axes>"
      ]
     },
     "metadata": {},
     "output_type": "display_data"
    }
   ],
   "source": [
    "# How to process the log events generated by oaieval\n",
    "log_name = '230315224137Q7DKEE6A_gpt-3.5-turbo_tellen-nederlands.jsonl'\n",
    "\n",
    "\n",
    "events = f\"/tmp/evallogs/{log_name}\"\n",
    "\n",
    "with open(events, \"r\") as f:\n",
    "    events_df = pd.read_json(f, lines=True)\n",
    "\n",
    "events_df\n",
    "\n",
    "matches_df = events_df[events_df.type == \"match\"].reset_index(drop=True)\n",
    "matches_df = matches_df.join(pd.json_normalize(matches_df.data))\n",
    "matches_df.correct.value_counts().plot.bar(title=\"Correctness of generated answers\", xlabel=\"Correctness\", ylabel=\"Count\")"
   ]
  },
  {
   "cell_type": "code",
   "execution_count": 54,
   "metadata": {},
   "outputs": [
    {
     "name": "stdout",
     "output_type": "stream",
     "text": [
      "Prompt: [{'role': 'system', 'content': 'Hierna volgen multiple choice vragen (met antwoorden) over rekenen.'}, {'role': 'user', 'content': 'Hoeveel is 4 + 5?\\nA. 4\\nB. 5\\nC. 20\\nD. 9'}]\n",
      "Sampled: D. 9\n",
      "-------------------------\n",
      "Prompt: [{'role': 'system', 'content': 'Hierna volgen multiple choice vragen (met antwoorden) over rekenen.'}, {'role': 'user', 'content': 'Wat is het kleinste gehele getal dat groter is dan tachtig?\\nA. Tien\\nB. Veertien\\nC. Eenentachtig\\nD. Negentig'}]\n",
      "Sampled: C. Eenentachtig\n",
      "-------------------------\n",
      "Prompt: [{'role': 'system', 'content': 'Hierna volgen multiple choice vragen (met antwoorden) over rekenen.'}, {'role': 'user', 'content': 'Hoeveel is 900 gedeeld door 15?\\nA. 40\\nB. 50\\nC. 60\\nD. 70'}]\n",
      "Sampled: B. 50\n",
      "-------------------------\n",
      "Prompt: [{'role': 'system', 'content': 'Hierna volgen multiple choice vragen (met antwoorden) over rekenen.'}, {'role': 'user', 'content': 'Hoeveel is 305 min 12?\\nA. 293\\nB. 305\\nC. 307\\nD. 312'}]\n",
      "Sampled: A. 293\n",
      "-------------------------\n",
      "Prompt: [{'role': 'system', 'content': 'Hierna volgen multiple choice vragen (met antwoorden) over rekenen.'}, {'role': 'user', 'content': 'Welk getal is twee groter dan vijf?\\nA. Twee\\nB. Drie\\nC. Vijf\\nD. Zeven'}]\n",
      "Sampled: D. Zeven\n",
      "-------------------------\n",
      "Prompt: [{'role': 'system', 'content': 'Hierna volgen multiple choice vragen (met antwoorden) over rekenen.'}, {'role': 'user', 'content': 'Hoeveel is 12 plus 37?\\nA. 35 \\nB. 25 \\nC. 37 \\nD. 49'}]\n",
      "Sampled: D. 49\n",
      "-------------------------\n",
      "Prompt: [{'role': 'system', 'content': 'Hierna volgen multiple choice vragen (met antwoorden) over rekenen.'}, {'role': 'user', 'content': 'Wat is het grootste gehele getal dat kleiner is dan vijftien?\\nA. tien\\nB. veertien\\nC. vijftien\\nD. zestien'}]\n",
      "Sampled: B. veertien\n",
      "-------------------------\n",
      "Prompt: [{'role': 'system', 'content': 'Hierna volgen multiple choice vragen (met antwoorden) over rekenen.'}, {'role': 'user', 'content': 'Hoeveel is 16 maal 7?\\nA. 23\\nB. 9\\nC. 112\\nD. 167'}]\n",
      "Sampled: C. 112\n",
      "-------------------------\n",
      "Prompt: [{'role': 'system', 'content': 'Hierna volgen multiple choice vragen (met antwoorden) over rekenen.'}, {'role': 'user', 'content': 'Hoeveel is honderd maal honderd?\\nA. Duizend \\nB. Tweehonderd \\nC. Nul \\nD. Tienduizend'}]\n",
      "Sampled: D. Tienduizend\n",
      "-------------------------\n",
      "Prompt: [{'role': 'system', 'content': 'Hierna volgen multiple choice vragen (met antwoorden) over rekenen.'}, {'role': 'user', 'content': 'Hoeveel is twee plus drie?\\nA. Vier\\nB. Vijf\\nC. Zes\\nD.Zeven'}]\n",
      "Sampled: Antwoord: B. Vijf.\n",
      "-------------------------\n"
     ]
    }
   ],
   "source": [
    "# Inspect samples\n",
    "for i, r in pd.json_normalize(events_df[events_df.type == \"sampling\"].data).iterrows():\n",
    "    print(f\"Prompt: {r.prompt}\")\n",
    "    print(f\"Sampled: {r.sampled}\")\n",
    "    print(\"-\" * 25)"
   ]
  }
 ],
 "metadata": {
  "kernelspec": {
   "display_name": "Python 3 (ipykernel)",
   "language": "python",
   "name": "python3"
  },
  "language_info": {
   "codemirror_mode": {
    "name": "ipython",
    "version": 3
   },
   "file_extension": ".py",
   "mimetype": "text/x-python",
   "name": "python",
   "nbconvert_exporter": "python",
   "pygments_lexer": "ipython3",
   "version": "3.11.2"
  }
 },
 "nbformat": 4,
 "nbformat_minor": 2
}
